{
 "cells": [
  {
   "cell_type": "markdown",
   "id": "c9959d76-ac70-4511-9fbc-a88670b56171",
   "metadata": {},
   "source": [
    "## Part 1. Forgetful ChatBot"
   ]
  },
  {
   "cell_type": "code",
   "execution_count": 5,
   "id": "9df6304c-af9a-439c-bd71-a0a4b23a65d6",
   "metadata": {},
   "outputs": [],
   "source": [
    "from pprint import pprint\n",
    "from langchain.chat_models import ChatOpenAI\n",
    "from langchain.schema import HumanMessage"
   ]
  },
  {
   "cell_type": "code",
   "execution_count": 6,
   "id": "f42fc0a6-baf2-448b-bfea-6668bb81b3ec",
   "metadata": {},
   "outputs": [],
   "source": [
    "# make sure OPENAI_API_KEY environment variable is defined\n",
    "chatGPT = ChatOpenAI()"
   ]
  },
  {
   "cell_type": "code",
   "execution_count": 7,
   "id": "d4832a20-5cb0-4892-bc31-7127db2ce898",
   "metadata": {},
   "outputs": [
    {
     "name": "stdout",
     "output_type": "stream",
     "text": [
      "content=\"According to the most recent data, the population of Berlin, Germany's capital, is approximately 3.8 million people.\" additional_kwargs={} example=False\n"
     ]
    }
   ],
   "source": [
    "messages = [\n",
    "    HumanMessage(content=\"What is the population of the German capital Berlin?\")\n",
    "]\n",
    "print(chatGPT(messages))\n"
   ]
  },
  {
   "cell_type": "code",
   "execution_count": 8,
   "id": "7dd2dfd8-ce53-4b18-a0d1-8a1994edafac",
   "metadata": {},
   "outputs": [
    {
     "name": "stdout",
     "output_type": "stream",
     "text": [
      "content='To accurately compare the population of London to another location, we would need specific information about the population numbers of both locations. As of 2021, the estimated population of London is around 9 million people. Therefore, to compare it with another location, we would need the population figure of that specific place. Please provide the population of the location you want to compare with London, and I can help you make a comparison.' additional_kwargs={} example=False\n"
     ]
    }
   ],
   "source": [
    "messages = [\n",
    "    HumanMessage(content=\"How does it compare to the populatio of London?\")\n",
    "]\n",
    "print(chatGPT(messages))"
   ]
  },
  {
   "cell_type": "markdown",
   "id": "2c180ec2-0460-499a-8640-3fb4a513e128",
   "metadata": {},
   "source": [
    "## Part 2. + memory"
   ]
  },
  {
   "cell_type": "code",
   "execution_count": 21,
   "id": "4604470f-3772-4e0a-9c95-b1c681069d04",
   "metadata": {},
   "outputs": [],
   "source": [
    "from langchain.memory import ConversationBufferMemory\n",
    "memory = ConversationBufferMemory()\n",
    "memory.save_context(\n",
    "    {\"input\": \"What is the population of the German capital Berlin?\"}, \n",
    "    {\"output\": \"As of 2021, the estimated population of Berlin, the capital city of Germany, is around 3.8 million.\"}\n",
    ")"
   ]
  },
  {
   "cell_type": "code",
   "execution_count": 22,
   "id": "ba6fbbff-c13e-439c-984b-4595cbbb2712",
   "metadata": {},
   "outputs": [
    {
     "name": "stdout",
     "output_type": "stream",
     "text": [
      "chat_memory=ChatMessageHistory(messages=[HumanMessage(content='What is the population of the German capital Berlin?', additional_kwargs={}, example=False), AIMessage(content='As of 2021, the estimated population of Berlin, the capital city of Germany, is around 3.8 million.', additional_kwargs={}, example=False)]) output_key=None input_key=None return_messages=False human_prefix='Human' ai_prefix='AI' memory_key='history'\n"
     ]
    }
   ],
   "source": [
    "print(memory)"
   ]
  },
  {
   "cell_type": "code",
   "execution_count": 9,
   "id": "9daa5495-85d6-4b0a-b97d-3b7f35f83ddf",
   "metadata": {},
   "outputs": [],
   "source": [
    "from langchain.agents import initialize_agent\n",
    "from langchain.chat_models import ChatOpenAI\n",
    "from langchain.schema import HumanMessage\n",
    "\n",
    "from langchain.chains import LLMChain\n",
    "from langchain.memory import ConversationBufferMemory\n",
    "from langchain.prompts import PromptTemplate"
   ]
  },
  {
   "cell_type": "code",
   "execution_count": 10,
   "id": "593254d8-70d4-49b3-86e0-c3c7aa8a4c4c",
   "metadata": {},
   "outputs": [
    {
     "name": "stdout",
     "output_type": "stream",
     "text": [
      "{'chat_history': 'Human: What is the population of the German capital Berlin?\\n'\n",
      "                 'AI: As of 2021, the estimated population of Berlin, the '\n",
      "                 'capital city of Germany, is around 3.8 million.',\n",
      " 'question': 'How does it compare to the populatio of London?',\n",
      " 'text': 'As of 2021, the estimated population of London is around 8.9 '\n",
      "         'million, making it significantly larger than Berlin.'}\n"
     ]
    }
   ],
   "source": [
    "# make sure OPENAI_API_KEY environment variable is defined\n",
    "chatGPT = ChatOpenAI()\n",
    "\n",
    "template = \"\"\"Previous conversation:\n",
    "{chat_history}\n",
    "\n",
    "New human question: {question}\n",
    "Response:\"\"\"\n",
    "prompt = PromptTemplate.from_template(template)\n",
    "\n",
    "memory = ConversationBufferMemory(memory_key=\"chat_history\")\n",
    "memory.save_context(\n",
    "    {\"input\": \"What is the population of the German capital Berlin?\"}, \n",
    "    {\"output\": \"As of 2021, the estimated population of Berlin, the capital city of Germany, is around 3.8 million.\"}\n",
    ")\n",
    "\n",
    "chat_with_memory = LLMChain(\n",
    "    llm=chatGPT,\n",
    "    prompt=prompt,\n",
    "    verbose=False,\n",
    "    memory=memory\n",
    ")\n",
    "pprint(chat_with_memory({\"question\":\"How does it compare to the populatio of London?\"}))"
   ]
  },
  {
   "cell_type": "code",
   "execution_count": 12,
   "id": "77028247-a0d9-4743-9e89-d203324e471e",
   "metadata": {},
   "outputs": [
    {
     "name": "stdout",
     "output_type": "stream",
     "text": [
      "{'chat_history': 'Human: What is the population of the German capital Berlin?\\n'\n",
      "                 'AI: As of 2021, the estimated population of Berlin, the '\n",
      "                 'capital city of Germany, is around 3.8 million.\\n'\n",
      "                 'Human: How does it compare to the populatio of London?\\n'\n",
      "                 'AI: As of 2021, the estimated population of London is around '\n",
      "                 '8.9 million, making it significantly larger than Berlin.\\n'\n",
      "                 'Human: How many languages are spoken London?\\n'\n",
      "                 'AI: In London, over 300 languages are spoken, making it one '\n",
      "                 'of the most linguistically diverse cities in the world.',\n",
      " 'question': 'How many languages are spoken in London?',\n",
      " 'text': 'In London, over 300 languages are spoken, making it one of the most '\n",
      "         'linguistically diverse cities in the world.'}\n"
     ]
    }
   ],
   "source": [
    "pprint(chat_with_memory({\"question\":\"How many languages are spoken in London?\"}))"
   ]
  },
  {
   "cell_type": "markdown",
   "id": "20b5e588-3ebf-4938-9325-caf022f6379f",
   "metadata": {},
   "source": [
    "## Part 3. +  knowledge"
   ]
  },
  {
   "cell_type": "code",
   "execution_count": 20,
   "id": "25f9a9a6-4024-4341-a2e2-cdd28e8c430e",
   "metadata": {},
   "outputs": [],
   "source": [
    "from langchain.agents import initialize_agent\n",
    "from langchain.chat_models import ChatOpenAI\n",
    "from langchain.schema import HumanMessage\n",
    "\n",
    "# Chain for having a conversation based on retrieved documents.\n",
    "from langchain.chains  import ConversationalRetrievalChain\n",
    "import langchain\n",
    "from langchain.memory import ConversationBufferMemory\n",
    "from langchain.prompts import PromptTemplate\n",
    "from langchain.vectorstores import Chroma\n",
    "from langchain.document_loaders import TextLoader\n",
    "from langchain.embeddings import OpenAIEmbeddings\n",
    "\n",
    "\n",
    "info_about_berlin_loader = TextLoader(\"real-time-information-on-berlin.txt\")\n",
    "\n",
    "vectorstore = Chroma.from_documents(documents=info_about_berlin_loader.load(), \n",
    "                                    embedding=OpenAIEmbeddings())\n",
    "\n",
    "\n",
    "chatGPT = ChatOpenAI()\n",
    "memory = ConversationBufferMemory(memory_key=\"chat_history\", return_messages=True)\n",
    "\n",
    "chat_with_memory_and_knowledge = ConversationalRetrievalChain.from_llm(\n",
    "    llm=chatGPT,\n",
    "    retriever=vectorstore.as_retriever(search_kwargs={\"k\": 1}),\n",
    "    memory=memory,\n",
    "    # verbose=True\n",
    ")"
   ]
  },
  {
   "cell_type": "code",
   "execution_count": 17,
   "id": "35e97153-5554-4930-a9a4-4d213db4c648",
   "metadata": {},
   "outputs": [
    {
     "name": "stdout",
     "output_type": "stream",
     "text": [
      "{'answer': 'As of 2023, the population of Berlin is 5,450,451.',\n",
      " 'chat_history': [HumanMessage(content='What is the population of the German capital Berlin?', additional_kwargs={}, example=False),\n",
      "                  AIMessage(content='As of 2023, the population of Berlin is 5,450,451.', additional_kwargs={}, example=False)],\n",
      " 'question': 'What is the population of the German capital Berlin?'}\n"
     ]
    }
   ],
   "source": [
    "pprint(chat_with_memory_and_knowledge({\"question\":\"What is the population of the German capital Berlin?\"}))"
   ]
  },
  {
   "cell_type": "code",
   "execution_count": 21,
   "id": "4082bad6-09d0-45a6-bc36-17a340188fa9",
   "metadata": {},
   "outputs": [
    {
     "name": "stdout",
     "output_type": "stream",
     "text": [
      "\u001b[32;1m\u001b[1;3m[chain/start]\u001b[0m \u001b[1m[1:chain:ConversationalRetrievalChain] Entering Chain run with input:\n",
      "\u001b[0m{\n",
      "  \"question\": \"How many languages are spoken in London?\",\n",
      "  \"chat_history\": []\n",
      "}\n",
      "\u001b[32;1m\u001b[1;3m[chain/start]\u001b[0m \u001b[1m[1:chain:ConversationalRetrievalChain > 3:chain:StuffDocumentsChain] Entering Chain run with input:\n",
      "\u001b[0m[inputs]\n",
      "\u001b[32;1m\u001b[1;3m[chain/start]\u001b[0m \u001b[1m[1:chain:ConversationalRetrievalChain > 3:chain:StuffDocumentsChain > 4:chain:LLMChain] Entering Chain run with input:\n",
      "\u001b[0m{\n",
      "  \"question\": \"How many languages are spoken in London?\",\n",
      "  \"context\": \"As of 2023 Berlin population is 5450451. 51% are women.\"\n",
      "}\n",
      "\u001b[32;1m\u001b[1;3m[llm/start]\u001b[0m \u001b[1m[1:chain:ConversationalRetrievalChain > 3:chain:StuffDocumentsChain > 4:chain:LLMChain > 5:llm:ChatOpenAI] Entering LLM run with input:\n",
      "\u001b[0m{\n",
      "  \"prompts\": [\n",
      "    \"System: Use the following pieces of context to answer the users question. \\nIf you don't know the answer, just say that you don't know, don't try to make up an answer.\\n----------------\\nAs of 2023 Berlin population is 5450451. 51% are women.\\nHuman: How many languages are spoken in London?\"\n",
      "  ]\n",
      "}\n",
      "\u001b[36;1m\u001b[1;3m[llm/end]\u001b[0m \u001b[1m[1:chain:ConversationalRetrievalChain > 3:chain:StuffDocumentsChain > 4:chain:LLMChain > 5:llm:ChatOpenAI] [846ms] Exiting LLM run with output:\n",
      "\u001b[0m{\n",
      "  \"generations\": [\n",
      "    [\n",
      "      {\n",
      "        \"text\": \"I don't know the exact number of languages spoken in London.\",\n",
      "        \"generation_info\": {\n",
      "          \"finish_reason\": \"stop\"\n",
      "        },\n",
      "        \"message\": {\n",
      "          \"lc\": 1,\n",
      "          \"type\": \"constructor\",\n",
      "          \"id\": [\n",
      "            \"langchain\",\n",
      "            \"schema\",\n",
      "            \"messages\",\n",
      "            \"AIMessage\"\n",
      "          ],\n",
      "          \"kwargs\": {\n",
      "            \"content\": \"I don't know the exact number of languages spoken in London.\",\n",
      "            \"additional_kwargs\": {}\n",
      "          }\n",
      "        }\n",
      "      }\n",
      "    ]\n",
      "  ],\n",
      "  \"llm_output\": {\n",
      "    \"token_usage\": {\n",
      "      \"prompt_tokens\": 78,\n",
      "      \"completion_tokens\": 13,\n",
      "      \"total_tokens\": 91\n",
      "    },\n",
      "    \"model_name\": \"gpt-3.5-turbo\"\n",
      "  },\n",
      "  \"run\": null\n",
      "}\n",
      "\u001b[36;1m\u001b[1;3m[chain/end]\u001b[0m \u001b[1m[1:chain:ConversationalRetrievalChain > 3:chain:StuffDocumentsChain > 4:chain:LLMChain] [848ms] Exiting Chain run with output:\n",
      "\u001b[0m{\n",
      "  \"text\": \"I don't know the exact number of languages spoken in London.\"\n",
      "}\n",
      "\u001b[36;1m\u001b[1;3m[chain/end]\u001b[0m \u001b[1m[1:chain:ConversationalRetrievalChain > 3:chain:StuffDocumentsChain] [849ms] Exiting Chain run with output:\n",
      "\u001b[0m{\n",
      "  \"output_text\": \"I don't know the exact number of languages spoken in London.\"\n",
      "}\n",
      "\u001b[36;1m\u001b[1;3m[chain/end]\u001b[0m \u001b[1m[1:chain:ConversationalRetrievalChain] [1.29s] Exiting Chain run with output:\n",
      "\u001b[0m{\n",
      "  \"answer\": \"I don't know the exact number of languages spoken in London.\"\n",
      "}\n",
      "{'answer': \"I don't know the exact number of languages spoken in London.\",\n",
      " 'chat_history': [HumanMessage(content='How many languages are spoken in London?', additional_kwargs={}, example=False),\n",
      "                  AIMessage(content=\"I don't know the exact number of languages spoken in London.\", additional_kwargs={}, example=False)],\n",
      " 'question': 'How many languages are spoken in London?'}\n"
     ]
    }
   ],
   "source": [
    "langchain.debug = True\n",
    "pprint(chat_with_memory_and_knowledge({\"question\":\"How many languages are spoken in London?\"}))"
   ]
  },
  {
   "cell_type": "code",
   "execution_count": null,
   "id": "6d82985d-41d3-4363-8826-1e65365e18e4",
   "metadata": {},
   "outputs": [],
   "source": []
  }
 ],
 "metadata": {
  "kernelspec": {
   "display_name": "Python 3 (ipykernel)",
   "language": "python",
   "name": "python3"
  },
  "language_info": {
   "codemirror_mode": {
    "name": "ipython",
    "version": 3
   },
   "file_extension": ".py",
   "mimetype": "text/x-python",
   "name": "python",
   "nbconvert_exporter": "python",
   "pygments_lexer": "ipython3",
   "version": "3.10.9"
  }
 },
 "nbformat": 4,
 "nbformat_minor": 5
}
