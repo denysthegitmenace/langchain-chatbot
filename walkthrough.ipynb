{
 "cells": [
  {
   "cell_type": "markdown",
   "id": "c9959d76-ac70-4511-9fbc-a88670b56171",
   "metadata": {},
   "source": [
    "## Part 1. Forgetful ChatBot"
   ]
  },
  {
   "cell_type": "code",
   "execution_count": 70,
   "id": "9df6304c-af9a-439c-bd71-a0a4b23a65d6",
   "metadata": {},
   "outputs": [],
   "source": [
    "import langchain\n",
    "from pprint import pprint\n",
    "from langchain.chat_models import ChatOpenAI\n",
    "from langchain.schema import HumanMessage"
   ]
  },
  {
   "cell_type": "code",
   "execution_count": 71,
   "id": "f42fc0a6-baf2-448b-bfea-6668bb81b3ec",
   "metadata": {},
   "outputs": [],
   "source": [
    "# make sure OPENAI_API_KEY environment variable is defined\n",
    "chatGPT = ChatOpenAI()\n",
    "langchain.debug = False"
   ]
  },
  {
   "cell_type": "code",
   "execution_count": 72,
   "id": "d4832a20-5cb0-4892-bc31-7127db2ce898",
   "metadata": {},
   "outputs": [
    {
     "name": "stdout",
     "output_type": "stream",
     "text": [
      "content='As of 2021, the estimated population of Berlin is approximately 3.8 million people.' additional_kwargs={} example=False\n"
     ]
    }
   ],
   "source": [
    "messages = [\n",
    "    HumanMessage(content=\"What is the population of the German capital Berlin?\")\n",
    "]\n",
    "print(chatGPT(messages))"
   ]
  },
  {
   "cell_type": "code",
   "execution_count": 75,
   "id": "7dd2dfd8-ce53-4b18-a0d1-8a1994edafac",
   "metadata": {},
   "outputs": [
    {
     "name": "stdout",
     "output_type": "stream",
     "text": [
      "content=\"To provide an accurate comparison, we need to know the specific population you are referring to. As of 2021, the population of Greater London is estimated to be around 9 million people. Please specify the population you want to compare to London's population for a more precise answer.\" additional_kwargs={} example=False\n"
     ]
    }
   ],
   "source": [
    "messages = [\n",
    "    HumanMessage(content=\"How does it compare to the population of London?\")\n",
    "]\n",
    "print(chatGPT(messages))"
   ]
  },
  {
   "cell_type": "markdown",
   "id": "2c180ec2-0460-499a-8640-3fb4a513e128",
   "metadata": {},
   "source": [
    "## Part 2. + memory"
   ]
  },
  {
   "cell_type": "code",
   "execution_count": 80,
   "id": "4604470f-3772-4e0a-9c95-b1c681069d04",
   "metadata": {},
   "outputs": [],
   "source": [
    "from langchain.memory import ConversationBufferMemory\n",
    "memory = ConversationBufferMemory()\n",
    "memory.save_context(\n",
    "    {\"input\": \"What is the population of the German capital Berlin?\"}, \n",
    "    {\"output\": \"As of 2021, the estimated population of Berlin, the capital city of Germany, is around 3.8 million.\"}\n",
    ")"
   ]
  },
  {
   "cell_type": "code",
   "execution_count": 81,
   "id": "ba6fbbff-c13e-439c-984b-4595cbbb2712",
   "metadata": {},
   "outputs": [
    {
     "name": "stdout",
     "output_type": "stream",
     "text": [
      "chat_memory=ChatMessageHistory(messages=[HumanMessage(content='What is the population of the German capital Berlin?', additional_kwargs={}, example=False), AIMessage(content='As of 2021, the estimated population of Berlin, the capital city of Germany, is around 3.8 million.', additional_kwargs={}, example=False)]) output_key=None input_key=None return_messages=False human_prefix='Human' ai_prefix='AI' memory_key='history'\n"
     ]
    }
   ],
   "source": [
    "print(memory)"
   ]
  },
  {
   "cell_type": "code",
   "execution_count": 82,
   "id": "9daa5495-85d6-4b0a-b97d-3b7f35f83ddf",
   "metadata": {},
   "outputs": [],
   "source": [
    "from langchain.chat_models import ChatOpenAI\n",
    "from langchain.schema import HumanMessage\n",
    "\n",
    "from langchain.chains import LLMChain\n",
    "from langchain.memory import ConversationBufferMemory\n",
    "from langchain.prompts import PromptTemplate"
   ]
  },
  {
   "cell_type": "code",
   "execution_count": 83,
   "id": "593254d8-70d4-49b3-86e0-c3c7aa8a4c4c",
   "metadata": {},
   "outputs": [
    {
     "name": "stdout",
     "output_type": "stream",
     "text": [
      "{'chat_history': 'Human: What is the population of the German capital Berlin?\\n'\n",
      "                 'AI: As of 2021, the estimated population of Berlin, the '\n",
      "                 'capital city of Germany, is around 3.8 million.',\n",
      " 'question': 'How does it compare to the populatio of London?',\n",
      " 'text': 'As of 2021, the estimated population of London is around 8.9 '\n",
      "         'million, making it significantly larger than Berlin.'}\n"
     ]
    }
   ],
   "source": [
    "# make sure OPENAI_API_KEY environment variable is defined\n",
    "chatGPT = ChatOpenAI()\n",
    "\n",
    "template = \"\"\"Previous conversation:\n",
    "{chat_history}\n",
    "\n",
    "New human question: {question}\n",
    "Response:\"\"\"\n",
    "prompt = PromptTemplate.from_template(template)\n",
    "\n",
    "memory = ConversationBufferMemory(memory_key=\"chat_history\")\n",
    "memory.save_context(\n",
    "    {\"input\": \"What is the population of the German capital Berlin?\"}, \n",
    "    {\"output\": \"As of 2021, the estimated population of Berlin, the capital city of Germany, is around 3.8 million.\"}\n",
    ")\n",
    "\n",
    "chat_with_memory = LLMChain(\n",
    "    llm=chatGPT,\n",
    "    prompt=prompt,\n",
    "    verbose=False,\n",
    "    memory=memory\n",
    ")\n",
    "pprint(chat_with_memory({\"question\":\"How does it compare to the populatio of London?\"}))"
   ]
  },
  {
   "cell_type": "code",
   "execution_count": 84,
   "id": "77028247-a0d9-4743-9e89-d203324e471e",
   "metadata": {},
   "outputs": [
    {
     "name": "stdout",
     "output_type": "stream",
     "text": [
      "{'chat_history': 'Human: What is the population of the German capital Berlin?\\n'\n",
      "                 'AI: As of 2021, the estimated population of Berlin, the '\n",
      "                 'capital city of Germany, is around 3.8 million.\\n'\n",
      "                 'Human: How does it compare to the populatio of London?\\n'\n",
      "                 'AI: As of 2021, the estimated population of London is around '\n",
      "                 '8.9 million, making it significantly larger than Berlin.',\n",
      " 'question': 'How many languages are spoken in London?',\n",
      " 'text': 'According to the 2011 census, over 300 languages were spoken in '\n",
      "         'London.'}\n"
     ]
    }
   ],
   "source": [
    "pprint(chat_with_memory({\"question\":\"How many languages are spoken in London?\"}))"
   ]
  },
  {
   "cell_type": "code",
   "execution_count": 85,
   "id": "a6b55f2a-14db-484e-ba2a-a73efaf3e272",
   "metadata": {},
   "outputs": [
    {
     "name": "stdout",
     "output_type": "stream",
     "text": [
      "{'chat_history': 'Human: What is the population of the German capital Berlin?\\n'\n",
      "                 'AI: As of 2021, the estimated population of Berlin, the '\n",
      "                 'capital city of Germany, is around 3.8 million.\\n'\n",
      "                 'Human: How does it compare to the populatio of London?\\n'\n",
      "                 'AI: As of 2021, the estimated population of London is around '\n",
      "                 '8.9 million, making it significantly larger than Berlin.\\n'\n",
      "                 'Human: How many languages are spoken in London?\\n'\n",
      "                 'AI: According to the 2011 census, over 300 languages were '\n",
      "                 'spoken in London.',\n",
      " 'question': 'What is the population of the German capital Berlin as of 2023?',\n",
      " 'text': \"I'm sorry, but I don't have access to real-time data. As of my last \"\n",
      "         'knowledge update in 2021, the estimated population of Berlin is '\n",
      "         'around 3.8 million.'}\n"
     ]
    }
   ],
   "source": [
    "pprint(chat_with_memory({\"question\":\"What is the population of the German capital Berlin as of 2023?\"}))"
   ]
  },
  {
   "cell_type": "markdown",
   "id": "20b5e588-3ebf-4938-9325-caf022f6379f",
   "metadata": {},
   "source": [
    "## Part 3. +  knowledge"
   ]
  },
  {
   "cell_type": "code",
   "execution_count": 86,
   "id": "25f9a9a6-4024-4341-a2e2-cdd28e8c430e",
   "metadata": {},
   "outputs": [],
   "source": [
    "from langchain.chat_models import ChatOpenAI\n",
    "from langchain.schema import HumanMessage\n",
    "\n",
    "# Chain for having a conversation based on retrieved documents.\n",
    "from langchain.chains  import ConversationalRetrievalChain\n",
    "import langchain\n",
    "from langchain.memory import ConversationBufferMemory\n",
    "from langchain.prompts import PromptTemplate\n",
    "from langchain.vectorstores import Chroma\n",
    "from langchain.document_loaders import TextLoader\n",
    "from langchain.embeddings import OpenAIEmbeddings\n",
    "from pprint import pprint\n",
    "\n",
    "\n",
    "info_about_berlin_loader = TextLoader(\"real-time-information-on-berlin.txt\")\n",
    "\n",
    "vectorstore = Chroma.from_documents(documents=info_about_berlin_loader.load(), \n",
    "                                    embedding=OpenAIEmbeddings())\n",
    "\n",
    "\n",
    "chatGPT = ChatOpenAI()\n",
    "memory = ConversationBufferMemory(memory_key=\"chat_history\", return_messages=True)\n",
    "\n",
    "chat_with_memory_and_knowledge = ConversationalRetrievalChain.from_llm(\n",
    "    llm=chatGPT,\n",
    "    retriever=vectorstore.as_retriever(search_kwargs={\"k\": 1}),\n",
    "    memory=memory,\n",
    "    # verbose=True\n",
    ")"
   ]
  },
  {
   "cell_type": "code",
   "execution_count": 87,
   "id": "7d68e329-86c9-4e3c-ad4e-3417a0e4af7f",
   "metadata": {},
   "outputs": [
    {
     "name": "stdout",
     "output_type": "stream",
     "text": [
      "{'answer': 'The population of Berlin as of 2023 is 5,450,451.',\n",
      " 'chat_history': [HumanMessage(content='What is the population of the German capital Berlin as of 2023?', additional_kwargs={}, example=False),\n",
      "                  AIMessage(content='The population of Berlin as of 2023 is 5,450,451.', additional_kwargs={}, example=False)],\n",
      " 'question': 'What is the population of the German capital Berlin as of 2023?'}\n"
     ]
    }
   ],
   "source": [
    "pprint(chat_with_memory_and_knowledge({\"question\":\"What is the population of the German capital Berlin as of 2023?\"}))"
   ]
  },
  {
   "cell_type": "code",
   "execution_count": 88,
   "id": "d9b4e5a6-2fc4-493e-8070-37e5a5416f2d",
   "metadata": {},
   "outputs": [
    {
     "name": "stdout",
     "output_type": "stream",
     "text": [
      "{'answer': 'As of 2023, the population of Berlin is 5,450,451 and 51% of that '\n",
      "           'population are women. Therefore, the approximate number of women '\n",
      "           'in the population of Berlin would be 2,777,727.',\n",
      " 'chat_history': [HumanMessage(content='What is the population of the German capital Berlin as of 2023?', additional_kwargs={}, example=False),\n",
      "                  AIMessage(content='The population of Berlin as of 2023 is 5,450,451.', additional_kwargs={}, example=False),\n",
      "                  HumanMessage(content='How many of them are women?', additional_kwargs={}, example=False),\n",
      "                  AIMessage(content='As of 2023, the population of Berlin is 5,450,451 and 51% of that population are women. Therefore, the approximate number of women in the population of Berlin would be 2,777,727.', additional_kwargs={}, example=False)],\n",
      " 'question': 'How many of them are women?'}\n"
     ]
    }
   ],
   "source": [
    "pprint(chat_with_memory_and_knowledge({\"question\":\"How many of them are women?\"}))"
   ]
  },
  {
   "cell_type": "code",
   "execution_count": 91,
   "id": "4082bad6-09d0-45a6-bc36-17a340188fa9",
   "metadata": {},
   "outputs": [
    {
     "name": "stdout",
     "output_type": "stream",
     "text": [
      "{'answer': \"I don't know the exact number of languages spoken in London.\",\n",
      " 'chat_history': [HumanMessage(content='What is the population of the German capital Berlin as of 2023?', additional_kwargs={}, example=False),\n",
      "                  AIMessage(content='The population of Berlin as of 2023 is 5,450,451.', additional_kwargs={}, example=False),\n",
      "                  HumanMessage(content='How many of them are women?', additional_kwargs={}, example=False),\n",
      "                  AIMessage(content='As of 2023, the population of Berlin is 5,450,451 and 51% of that population are women. Therefore, the approximate number of women in the population of Berlin would be 2,777,727.', additional_kwargs={}, example=False),\n",
      "                  HumanMessage(content='How many languages are spoken in London?', additional_kwargs={}, example=False),\n",
      "                  AIMessage(content=\"I don't know the exact number of languages spoken in London.\", additional_kwargs={}, example=False),\n",
      "                  HumanMessage(content='How many languages are spoken in London?', additional_kwargs={}, example=False),\n",
      "                  AIMessage(content=\"I don't know the exact number of languages spoken in London.\", additional_kwargs={}, example=False),\n",
      "                  HumanMessage(content='How many languages are spoken in London?', additional_kwargs={}, example=False),\n",
      "                  AIMessage(content=\"I don't know the exact number of languages spoken in London.\", additional_kwargs={}, example=False)],\n",
      " 'question': 'How many languages are spoken in London?'}\n"
     ]
    }
   ],
   "source": [
    "langchain.debug = False\n",
    "pprint(chat_with_memory_and_knowledge({\"question\":\"How many languages are spoken in London?\"}))"
   ]
  },
  {
   "cell_type": "markdown",
   "id": "4de7ddeb-b115-4d80-803e-2855d557da68",
   "metadata": {},
   "source": [
    "## Part 4. +  knowledge & common knowledge "
   ]
  },
  {
   "cell_type": "code",
   "execution_count": 92,
   "id": "6d82985d-41d3-4363-8826-1e65365e18e4",
   "metadata": {},
   "outputs": [],
   "source": [
    "from langchain.agents import initialize_agent\n",
    "from langchain.chat_models import ChatOpenAI\n",
    "from langchain.schema import HumanMessage\n",
    "\n",
    "# Chain for having a conversation based on retrieved documents.\n",
    "from langchain.chains  import ConversationalRetrievalChain\n",
    "import langchain\n",
    "from langchain.memory import ConversationBufferMemory\n",
    "from langchain.prompts import PromptTemplate\n",
    "from langchain.vectorstores import Chroma\n",
    "from langchain.document_loaders import TextLoader\n",
    "from langchain.embeddings import OpenAIEmbeddings\n",
    "from pprint import pprint\n",
    "\n",
    "\n",
    "info_about_berlin_loader = TextLoader(\"real-time-information-on-berlin.txt\")\n",
    "\n",
    "vectorstore = Chroma.from_documents(documents=info_about_berlin_loader.load(), \n",
    "                                    embedding=OpenAIEmbeddings())\n",
    "\n",
    "\n",
    "chatGPT = ChatOpenAI()\n",
    "memory = ConversationBufferMemory(memory_key=\"chat_history\", return_messages=True)\n",
    "\n",
    "test_template = \"\"\"System: Use the following pieces of context to answer the users question. \\nIf you don't know the answer, answer the question once again ignoring the context.\\n----------------\\n{context}\\nHuman: {question}\"\"\"\n",
    "test_prompt = PromptTemplate(template=test_template, input_variables=[\"question\", \"context\"])\n",
    "\n",
    "chat_with_memory_and_knowledge = ConversationalRetrievalChain.from_llm(\n",
    "    llm=chatGPT,\n",
    "    retriever=vectorstore.as_retriever(search_kwargs={\"k\": 1}),\n",
    "    memory=memory,\n",
    "    combine_docs_chain_kwargs={\"prompt\": test_prompt}\n",
    "    # verbose=True\n",
    ")"
   ]
  },
  {
   "cell_type": "code",
   "execution_count": 93,
   "id": "be0c1811-0a26-4b40-bf9d-1f0970b0f0a1",
   "metadata": {},
   "outputs": [
    {
     "name": "stdout",
     "output_type": "stream",
     "text": [
      "{'answer': 'The population of the German capital Berlin is 5450451.',\n",
      " 'chat_history': [HumanMessage(content='What is the population of the German capital Berlin?', additional_kwargs={}, example=False),\n",
      "                  AIMessage(content='The population of the German capital Berlin is 5450451.', additional_kwargs={}, example=False)],\n",
      " 'question': 'What is the population of the German capital Berlin?'}\n"
     ]
    }
   ],
   "source": [
    "pprint(chat_with_memory_and_knowledge({\"question\":\"What is the population of the German capital Berlin?\"}))"
   ]
  },
  {
   "cell_type": "code",
   "execution_count": 96,
   "id": "80eba964-61f4-4f67-b962-0e7a8f2861ed",
   "metadata": {},
   "outputs": [
    {
     "name": "stdout",
     "output_type": "stream",
     "text": [
      "{'answer': \"As an AI language model, I don't have real-time data. However, as \"\n",
      "           'of my last available information, it is estimated that over 300 '\n",
      "           'languages are spoken in London.',\n",
      " 'chat_history': [HumanMessage(content='What is the population of the German capital Berlin?', additional_kwargs={}, example=False),\n",
      "                  AIMessage(content='The population of the German capital Berlin is 5450451.', additional_kwargs={}, example=False),\n",
      "                  HumanMessage(content='How many languages are spoken in London?', additional_kwargs={}, example=False),\n",
      "                  AIMessage(content=\"As an AI language model, I don't have access to real-time data or the ability to browse the internet. However, London is a multicultural city with a diverse population, so it is likely that a large number of languages are spoken there.\", additional_kwargs={}, example=False),\n",
      "                  HumanMessage(content='How many languages are spoken in London?', additional_kwargs={}, example=False),\n",
      "                  AIMessage(content=\"I'm sorry, I don't have access to the current number of languages spoken in London.\", additional_kwargs={}, example=False),\n",
      "                  HumanMessage(content='How many languages are spoken in London?', additional_kwargs={}, example=False),\n",
      "                  AIMessage(content=\"As an AI language model, I don't have real-time data. However, as of my last available information, it is estimated that over 300 languages are spoken in London.\", additional_kwargs={}, example=False)],\n",
      " 'question': 'How many languages are spoken in London?'}\n"
     ]
    }
   ],
   "source": [
    "pprint(chat_with_memory_and_knowledge({\"question\":\"How many languages are spoken in London?\"}))"
   ]
  }
 ],
 "metadata": {
  "kernelspec": {
   "display_name": "Python 3 (ipykernel)",
   "language": "python",
   "name": "python3"
  },
  "language_info": {
   "codemirror_mode": {
    "name": "ipython",
    "version": 3
   },
   "file_extension": ".py",
   "mimetype": "text/x-python",
   "name": "python",
   "nbconvert_exporter": "python",
   "pygments_lexer": "ipython3",
   "version": "3.10.12"
  }
 },
 "nbformat": 4,
 "nbformat_minor": 5
}
